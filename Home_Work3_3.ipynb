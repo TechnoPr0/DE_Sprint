{
  "nbformat": 4,
  "nbformat_minor": 0,
  "metadata": {
    "colab": {
      "provenance": []
    },
    "kernelspec": {
      "name": "python3",
      "display_name": "Python 3"
    },
    "language_info": {
      "name": "python"
    }
  },
  "cells": [
    {
      "cell_type": "markdown",
      "source": [
        "#Установка Spark в Colab\n"
      ],
      "metadata": {
        "id": "-V9zGW5FY7lG"
      }
    },
    {
      "cell_type": "code",
      "source": [
        "!pip install pyspark"
      ],
      "metadata": {
        "colab": {
          "base_uri": "https://localhost:8080/"
        },
        "id": "ZpcgEAwvhSBO",
        "outputId": "5c5da794-e1a2-4751-8f86-547bf87afd85"
      },
      "execution_count": 258,
      "outputs": [
        {
          "output_type": "stream",
          "name": "stdout",
          "text": [
            "Looking in indexes: https://pypi.org/simple, https://us-python.pkg.dev/colab-wheels/public/simple/\n",
            "Requirement already satisfied: pyspark in /usr/local/lib/python3.7/dist-packages (3.3.1)\n",
            "Requirement already satisfied: py4j==0.10.9.5 in /usr/local/lib/python3.7/dist-packages (from pyspark) (0.10.9.5)\n"
          ]
        }
      ]
    },
    {
      "cell_type": "markdown",
      "source": [
        "#Импорт библиотек и подключение SparkSession"
      ],
      "metadata": {
        "id": "hKCdtyY1YzAE"
      }
    },
    {
      "cell_type": "code",
      "source": [
        "from pyspark.sql import SparkSession\n",
        "import pyspark.sql.types as T\n",
        "import pyspark.sql.functions as F\n",
        "import datetime\n",
        "import time\n",
        "import random\n",
        "spark = SparkSession.builder.master('local[*]').getOrCreate()"
      ],
      "metadata": {
        "id": "PXN3-b2llNVT"
      },
      "execution_count": 259,
      "outputs": []
    },
    {
      "cell_type": "markdown",
      "source": [
        "#Схема"
      ],
      "metadata": {
        "id": "mY4Bzi7RYpur"
      }
    },
    {
      "cell_type": "code",
      "source": [
        "schema = T.StructType([\n",
        "                       T.StructField('user_id', T.IntegerType(), True),\n",
        "                       T.StructField('timestamp', T.LongType(), True),\n",
        "                       T.StructField('type', T.StringType(), True),\n",
        "                       T.StructField('page_id', T.IntegerType(), True),\n",
        "                       T.StructField('tag', T.ArrayType(T.StringType(), True), True),\n",
        "                       T.StructField('sign', T.BooleanType(), True),\n",
        "                       ])"
      ],
      "metadata": {
        "id": "DEX2NUCHloms"
      },
      "execution_count": 260,
      "outputs": []
    },
    {
      "cell_type": "code",
      "source": [],
      "metadata": {
        "id": "w5-mzBnDYnSq"
      },
      "execution_count": 260,
      "outputs": []
    },
    {
      "cell_type": "markdown",
      "source": [
        "#Генератор данных"
      ],
      "metadata": {
        "id": "_-zVHBUUYfAl"
      }
    },
    {
      "cell_type": "code",
      "source": [
        "def generate_data(count):\n",
        "    gen_list = []\n",
        "    id_list = []\n",
        "    page_id = []\n",
        "    tags = ['Sport', 'Music', 'News', 'Cripto', 'Economic', 'Games', 'Money',\n",
        "            'Work']\n",
        "    action_type = ['visit', 'click', 'scroll', 'move']\n",
        "    for i in range(1,int(count/3)):\n",
        "        id_list.append([])\n",
        "        id_list[i-1].append(i)\n",
        "        id_list[i-1].append(random.choice([True, False]))\n",
        "\n",
        "    for i in range(0, count * 2):\n",
        "        inside_list = []\n",
        "        temp_numb = random.randint(1, count * 2)\n",
        "\n",
        "        page_id.append([])\n",
        "        page_id[i].append(temp_numb)\n",
        "        for j in range (0, random.randint(1, 3)):\n",
        "            temp_tag = random.choice(tags)\n",
        "            inside_list.append(temp_tag)\n",
        "        page_id[i].append(inside_list)\n",
        "\n",
        "    for i in range(0,count + 1):\n",
        "        temp_id = random.choice(id_list)\n",
        "        temp_page = random.choice(page_id)\n",
        "        gen_list.append([])\n",
        "        gen_list[i].append(temp_id[0])\n",
        "        gen_list[i].append(random.randint(946674000, int(time.time())))\n",
        "        gen_list[i].append(random.choice(action_type))\n",
        "        gen_list[i].append(temp_page[0])\n",
        "        gen_list[i].append(temp_page[1])\n",
        "        gen_list[i].append(temp_id[1])\n",
        "    return gen_list\n",
        "count = 300\n",
        "data = generate_data(count)\n",
        "print(data)"
      ],
      "metadata": {
        "colab": {
          "base_uri": "https://localhost:8080/"
        },
        "id": "m8huNBKhAXkj",
        "outputId": "86d2e369-074d-4300-f2fa-394163963310"
      },
      "execution_count": 261,
      "outputs": [
        {
          "output_type": "stream",
          "name": "stdout",
          "text": [
            "[[33, 1564230822, 'move', 191, ['Work', 'Cripto'], False], [38, 1015003862, 'visit', 45, ['Music', 'News', 'Sport'], True], [64, 1521337113, 'visit', 297, ['Work'], False], [66, 1543118715, 'scroll', 283, ['Games'], False], [95, 1552363200, 'scroll', 350, ['Sport'], True], [2, 969123720, 'scroll', 84, ['Sport', 'Economic'], True], [66, 1092994118, 'click', 440, ['Money', 'Money'], False], [43, 1314531544, 'move', 451, ['Music', 'Work', 'Games'], True], [42, 1560796885, 'click', 532, ['Work', 'Cripto'], False], [39, 1657844684, 'scroll', 561, ['News', 'Sport'], False], [36, 1492187767, 'move', 514, ['News'], True], [19, 990392287, 'scroll', 417, ['Cripto', 'Sport', 'Cripto'], True], [10, 1182145411, 'scroll', 365, ['Games', 'Economic', 'News'], False], [53, 1325051453, 'click', 302, ['Economic', 'Economic'], False], [49, 1252944201, 'click', 38, ['News'], False], [49, 1556018211, 'scroll', 356, ['Economic'], False], [19, 1449526728, 'move', 189, ['News', 'Money', 'Games'], True], [55, 1570703952, 'move', 114, ['News', 'Games', 'Work'], False], [72, 1212238197, 'move', 66, ['Work', 'Games', 'Music'], False], [45, 1329805629, 'visit', 307, ['Music', 'Music'], False], [53, 1194920689, 'click', 344, ['Sport'], False], [67, 1042028616, 'click', 444, ['Economic', 'Music'], True], [60, 1163681575, 'scroll', 200, ['Games'], True], [66, 1100343041, 'move', 417, ['Cripto', 'Sport', 'Cripto'], False], [77, 1566257167, 'scroll', 587, ['Sport'], True], [50, 1148527798, 'scroll', 42, ['Games', 'Economic'], False], [19, 1579195480, 'move', 530, ['Sport'], True], [24, 1035681566, 'visit', 109, ['Money'], True], [83, 1548750963, 'visit', 22, ['Sport', 'Cripto'], False], [41, 1522603568, 'move', 328, ['Cripto'], False], [9, 1420369464, 'click', 181, ['News'], True], [34, 1190519594, 'move', 170, ['Games'], False], [2, 1390892062, 'scroll', 560, ['Cripto', 'Sport', 'Cripto'], True], [48, 1558159584, 'scroll', 456, ['Games'], False], [23, 1460618872, 'move', 388, ['Music', 'Games', 'Work'], True], [31, 1433582811, 'click', 269, ['News'], True], [87, 1422722534, 'click', 538, ['Sport', 'Games'], True], [19, 1309600694, 'click', 530, ['Sport'], True], [67, 1391984353, 'visit', 327, ['Economic', 'Music', 'Music'], True], [50, 1046647471, 'click', 295, ['Work', 'News'], False], [70, 986948343, 'move', 397, ['Games', 'Work'], True], [65, 1079792504, 'scroll', 21, ['News'], False], [37, 1623816187, 'visit', 442, ['Sport'], False], [95, 1110804890, 'click', 275, ['News'], True], [47, 1293482960, 'visit', 581, ['Economic', 'Work', 'Music'], False], [38, 1265065573, 'move', 391, ['Economic'], True], [9, 1476418159, 'scroll', 176, ['Cripto', 'Economic'], True], [9, 1475146339, 'scroll', 249, ['Music', 'Games'], True], [30, 967598896, 'move', 242, ['Cripto'], True], [35, 1440668023, 'click', 203, ['Music', 'Music'], True], [3, 1160556608, 'click', 351, ['Games', 'Cripto', 'Sport'], True], [39, 1319182973, 'click', 230, ['Work'], False], [11, 1078933583, 'move', 581, ['Sport', 'Sport'], True], [34, 1058282398, 'move', 363, ['News', 'Economic', 'Work'], False], [20, 1477671628, 'scroll', 90, ['News', 'Economic'], False], [31, 1455000413, 'scroll', 544, ['Money', 'Economic', 'Games'], True], [3, 1163243141, 'click', 386, ['Work', 'Money'], True], [86, 1211646537, 'move', 363, ['News', 'Economic', 'Work'], True], [86, 1539973985, 'move', 427, ['Music'], True], [49, 1314001546, 'move', 156, ['Games', 'Music'], False], [81, 1500071428, 'click', 147, ['Cripto', 'News'], False], [87, 982791107, 'scroll', 572, ['Cripto'], True], [19, 1441309038, 'visit', 598, ['Cripto', 'Games'], True], [64, 1452311168, 'visit', 207, ['Sport', 'Cripto'], False], [42, 1558052824, 'scroll', 225, ['News', 'News', 'Cripto'], False], [17, 1223741627, 'visit', 50, ['Music'], False], [40, 1414889436, 'scroll', 366, ['Cripto'], True], [21, 1094532704, 'move', 576, ['Work'], True], [14, 1079930667, 'move', 60, ['Games', 'News', 'News'], True], [14, 1443210244, 'scroll', 220, ['Work', 'News', 'News'], True], [40, 1166376826, 'click', 103, ['Sport'], True], [14, 1586242464, 'visit', 68, ['Work', 'Work', 'Sport'], True], [13, 1143612639, 'move', 371, ['Money', 'Sport', 'Cripto'], False], [89, 1634435390, 'move', 22, ['Work'], True], [4, 1170224753, 'scroll', 164, ['Cripto', 'Music', 'Games'], False], [61, 1143972628, 'visit', 351, ['Games', 'Cripto', 'Sport'], True], [78, 1298296304, 'visit', 338, ['Music', 'Cripto'], True], [47, 1028074203, 'move', 275, ['Work'], False], [3, 1572850182, 'click', 306, ['Money', 'Work'], True], [45, 1133752581, 'move', 71, ['Money'], False], [51, 1486099372, 'click', 466, ['Cripto', 'Cripto', 'Work'], True], [26, 1085913885, 'visit', 80, ['Work', 'Money'], False], [11, 1191766278, 'scroll', 278, ['Music', 'Economic'], True], [69, 967448554, 'move', 137, ['News'], True], [81, 1428501639, 'scroll', 450, ['Sport'], False], [51, 1640544818, 'scroll', 214, ['Games', 'Music'], True], [40, 1218172869, 'click', 331, ['Economic'], True], [54, 1118989379, 'visit', 447, ['Money'], True], [37, 1372579242, 'scroll', 302, ['Economic'], False], [90, 1371625736, 'click', 128, ['Music', 'Work', 'Work'], False], [78, 1129723263, 'scroll', 315, ['Music'], True], [77, 1316217866, 'scroll', 144, ['Economic', 'Money', 'Music'], True], [96, 1415778821, 'move', 532, ['Work', 'Cripto'], False], [51, 965408940, 'scroll', 176, ['Sport'], True], [13, 1459979843, 'visit', 295, ['Work', 'News'], False], [55, 1585654152, 'click', 510, ['Work', 'Music'], False], [3, 999840319, 'click', 589, ['Economic', 'Games'], True], [25, 1201932165, 'visit', 133, ['Economic', 'Money'], True], [92, 980117440, 'move', 507, ['Work', 'Sport'], True], [20, 1068119548, 'click', 42, ['Work', 'Work', 'Sport'], False], [70, 1288016185, 'click', 371, ['Money', 'Sport', 'Cripto'], True], [71, 1470732915, 'click', 307, ['Music', 'Music'], True], [62, 1179228802, 'click', 189, ['News', 'Money', 'Games'], False], [10, 1487907217, 'click', 494, ['Money', 'Games', 'Economic'], False], [74, 1661521355, 'move', 142, ['Economic', 'Games'], True], [4, 1400848525, 'scroll', 433, ['News', 'Economic', 'Work'], False], [59, 1625240871, 'visit', 73, ['Cripto'], True], [38, 1363753885, 'scroll', 588, ['Economic'], True], [9, 1289629894, 'visit', 307, ['News', 'News', 'Work'], True], [78, 1248756063, 'visit', 133, ['Economic', 'Money'], True], [26, 1533125591, 'move', 271, ['Sport', 'Work', 'Cripto'], False], [11, 1407456222, 'click', 164, ['Economic', 'News', 'Games'], True], [90, 1121926220, 'move', 492, ['Economic'], False], [27, 1497727642, 'move', 311, ['Money'], True], [85, 1247854862, 'click', 209, ['Cripto'], True], [72, 1365074188, 'move', 563, ['Work', 'Sport', 'Cripto'], False], [59, 1442099378, 'click', 558, ['Games'], True], [47, 1466469795, 'move', 484, ['Music', 'Money', 'Economic'], False], [23, 1106136240, 'move', 384, ['Economic', 'Sport'], True], [80, 1158673017, 'move', 142, ['Work', 'Games', 'Economic'], True], [89, 1369541192, 'click', 557, ['Music', 'Work', 'Sport'], True], [20, 1250904983, 'move', 414, ['News', 'News', 'Work'], False], [93, 1524291561, 'scroll', 328, ['Cripto'], False], [18, 1039624716, 'click', 597, ['Music', 'Music'], True], [13, 1440197050, 'visit', 403, ['Money', 'Work'], False], [23, 1412723977, 'move', 60, ['Economic'], True], [28, 1267250631, 'click', 376, ['Music'], False], [38, 1021061856, 'move', 327, ['Economic', 'Music', 'Music'], True], [29, 1598404267, 'scroll', 594, ['Cripto', 'Sport', 'Economic'], True], [79, 1284109900, 'click', 538, ['News', 'Sport', 'Games'], True], [73, 1427566749, 'scroll', 588, ['Economic'], False], [60, 1581932851, 'visit', 541, ['Music'], True], [22, 1002205159, 'move', 578, ['Economic'], True], [59, 1119407252, 'visit', 3, ['Games'], True], [99, 1269703545, 'scroll', 510, ['Economic', 'Music', 'Cripto'], True], [88, 1058033897, 'visit', 584, ['Cripto'], False], [28, 1028085256, 'move', 13, ['Music'], False], [52, 1406609376, 'visit', 462, ['Work', 'Games'], True], [9, 1668161839, 'move', 536, ['Economic', 'Cripto', 'Economic'], True], [49, 1230745830, 'move', 114, ['News', 'Games', 'Work'], False], [83, 1021109370, 'visit', 217, ['News', 'Work'], False], [84, 1574399113, 'visit', 338, ['Money', 'Money', 'Money'], True], [50, 1416042815, 'move', 253, ['Cripto'], False], [2, 1315364648, 'visit', 344, ['Music', 'News'], True], [20, 1214820941, 'scroll', 432, ['News', 'Economic', 'Work'], False], [28, 1661258668, 'move', 431, ['Sport'], False], [66, 1383258384, 'click', 13, ['Music'], False], [88, 1505003662, 'visit', 379, ['Games', 'News'], False], [86, 1623195251, 'click', 157, ['News', 'Economic', 'Games'], True], [66, 1508098130, 'scroll', 252, ['Games', 'Money'], False], [81, 1298409347, 'move', 147, ['Cripto', 'News'], False], [25, 1199831082, 'move', 478, ['News', 'Games'], True], [20, 1050501510, 'visit', 502, ['Sport', 'Money'], False], [27, 1568638177, 'click', 484, ['News', 'News', 'Cripto'], True], [79, 1469600241, 'click', 180, ['Games', 'Cripto'], True], [7, 995347908, 'move', 170, ['Sport', 'News'], True], [53, 1336599411, 'visit', 558, ['Economic', 'Games', 'Sport'], False], [94, 1335554800, 'move', 558, ['Games'], True], [70, 1097193068, 'scroll', 406, ['Sport'], True], [55, 1253112963, 'visit', 499, ['Games'], False], [87, 1360996316, 'click', 349, ['Economic'], True], [85, 1635464127, 'move', 499, ['Music'], True], [29, 1497655998, 'scroll', 510, ['Work'], True], [73, 1329694282, 'click', 80, ['Work', 'Money'], False], [18, 1401522821, 'visit', 73, ['Cripto'], True], [90, 1667249014, 'scroll', 499, ['Music'], False], [5, 1103801950, 'move', 80, ['Cripto', 'Games'], False], [8, 1344465123, 'click', 84, ['Sport', 'Money', 'Music'], False], [15, 1135116755, 'scroll', 459, ['Money'], False], [12, 1559904642, 'move', 363, ['Cripto', 'News'], True], [19, 1637441860, 'visit', 385, ['Music', 'Cripto'], True], [36, 1179886641, 'move', 459, ['Money'], True], [24, 1118090894, 'click', 525, ['Sport', 'Work', 'Music'], True], [38, 1625020771, 'move', 594, ['Work', 'Work', 'Work'], True], [8, 1548559265, 'click', 520, ['Money', 'Economic', 'Work'], False], [92, 1262473701, 'scroll', 533, ['Cripto', 'Music', 'Music'], True], [35, 973492479, 'visit', 135, ['Work', 'Games', 'News'], True], [98, 1530584185, 'click', 427, ['Economic'], True], [61, 1302070000, 'move', 352, ['Games', 'Sport', 'Work'], True], [31, 1288368792, 'visit', 244, ['Money'], True], [79, 1428346121, 'move', 58, ['Cripto'], True], [47, 1109544938, 'click', 600, ['Economic', 'Money'], False], [99, 1634836972, 'visit', 162, ['Games', 'Sport'], True], [44, 1606175800, 'click', 192, ['News'], False], [55, 1031500773, 'scroll', 577, ['Music'], False], [64, 984702351, 'move', 43, ['News'], False], [62, 1287799374, 'click', 426, ['Sport'], False], [14, 1419924003, 'scroll', 523, ['News'], True], [28, 1609835623, 'move', 39, ['Cripto'], False], [53, 1297591055, 'visit', 567, ['Money', 'Cripto'], False], [10, 1256061841, 'scroll', 555, ['News', 'Economic', 'Money'], False], [87, 1041531920, 'scroll', 385, ['Music', 'Cripto'], True], [62, 1244732813, 'click', 474, ['Economic', 'Music', 'Money'], False], [77, 1390143695, 'visit', 439, ['Economic'], True], [37, 1265698741, 'visit', 210, ['Economic', 'Games', 'Sport'], False], [70, 1389434052, 'click', 500, ['Work'], True], [61, 1096830908, 'move', 261, ['Sport', 'Cripto', 'Cripto'], True], [7, 1356300849, 'move', 60, ['Economic'], True], [88, 1175971263, 'scroll', 176, ['Cripto', 'Economic'], False], [24, 1653171217, 'click', 592, ['Games'], True], [26, 1278447100, 'move', 245, ['Cripto'], False], [47, 1136243707, 'scroll', 470, ['Work', 'Sport', 'News'], False], [41, 1285151306, 'visit', 147, ['Cripto', 'News'], False], [25, 1506265079, 'click', 43, ['News'], True], [28, 1155432283, 'click', 464, ['Work', 'Sport'], False], [48, 1387168676, 'scroll', 80, ['Work', 'Money'], False], [47, 1462585499, 'move', 76, ['Music', 'Games'], False], [95, 1257776080, 'click', 543, ['Work', 'Economic'], True], [40, 951735946, 'visit', 38, ['News'], True], [80, 971584627, 'visit', 389, ['Work', 'Games', 'Money'], True], [51, 1657243304, 'move', 52, ['Sport', 'Economic', 'News'], True], [4, 1039521509, 'click', 508, ['Games'], False], [4, 1168380015, 'click', 561, ['Music', 'Games'], False], [71, 1027905126, 'move', 341, ['Money', 'Economic'], True], [58, 1655168287, 'visit', 557, ['Music', 'Work', 'Sport'], True], [18, 1429190683, 'visit', 84, ['Sport', 'Money', 'Music'], True], [56, 1073994627, 'scroll', 528, ['Economic', 'Money', 'Economic'], True], [31, 1522868916, 'scroll', 269, ['News'], True], [80, 1631164724, 'move', 456, ['Economic', 'Money', 'Work'], True], [90, 1188825312, 'click', 362, ['Economic'], False], [40, 1395570782, 'scroll', 518, ['Sport', 'Money', 'Economic'], True], [44, 1108959983, 'move', 579, ['Work', 'News'], False], [5, 1348137693, 'move', 320, ['Money', 'Economic'], False], [37, 1463537711, 'visit', 433, ['News', 'Economic', 'Work'], False], [7, 1656717654, 'move', 60, ['Economic', 'Sport'], True], [25, 958822359, 'click', 528, ['Economic', 'Money', 'Economic'], True], [96, 1048231600, 'click', 92, ['Money'], False], [44, 1362145284, 'move', 587, ['Sport'], False], [80, 987370505, 'move', 164, ['Economic', 'News', 'Games'], True], [13, 1575806122, 'click', 182, ['News'], False], [16, 1373525248, 'visit', 379, ['Sport'], True], [14, 1295008982, 'click', 530, ['Sport'], True], [57, 964222103, 'visit', 428, ['Games'], False], [83, 1509961377, 'visit', 537, ['Money', 'Cripto'], False], [1, 1414588895, 'visit', 231, ['Cripto'], False], [38, 1607194719, 'scroll', 103, ['Money', 'Music'], True], [49, 1491254775, 'scroll', 142, ['Work', 'Games', 'Economic'], False], [8, 977772671, 'scroll', 379, ['Games', 'News'], False], [1, 1020917840, 'visit', 192, ['Cripto', 'Cripto'], False], [44, 1242102239, 'move', 418, ['Economic', 'Economic'], False], [57, 954553594, 'click', 402, ['News'], False], [29, 983241325, 'click', 111, ['Work', 'News', 'Music'], True], [45, 1078825370, 'move', 302, ['Work'], False], [56, 1387379306, 'scroll', 402, ['News'], True], [69, 1146144816, 'click', 60, ['Games', 'News', 'News'], True], [80, 1334537019, 'move', 60, ['Economic', 'Sport'], True], [7, 1160916089, 'scroll', 176, ['Sport'], True], [53, 1636268664, 'move', 89, ['Money', 'Cripto', 'Cripto'], False], [58, 1645230877, 'move', 531, ['Sport'], True], [76, 1016631999, 'scroll', 534, ['Economic'], True], [17, 1540836110, 'visit', 133, ['Economic', 'Money'], False], [31, 1475718676, 'move', 191, ['Work', 'Cripto'], True], [46, 1126478563, 'visit', 144, ['Economic', 'Money', 'Music'], True], [46, 1016137352, 'move', 43, ['News'], True], [69, 1061362411, 'click', 127, ['News', 'Economic'], True], [76, 1219272579, 'scroll', 38, ['News'], True], [41, 1413540482, 'visit', 311, ['Money'], False], [74, 947687831, 'click', 555, ['Cripto', 'Money'], True], [11, 1311420113, 'move', 598, ['Cripto', 'Games'], True], [22, 1578526890, 'scroll', 224, ['Money'], True], [87, 1293985773, 'click', 172, ['Cripto', 'Cripto', 'Games'], True], [21, 980164766, 'scroll', 47, ['Games', 'Economic'], True], [21, 1005834755, 'click', 351, ['Games', 'Cripto', 'Sport'], True], [81, 1159413796, 'scroll', 389, ['Work', 'Games', 'Money'], False], [95, 1501898973, 'move', 190, ['Cripto', 'Cripto', 'Music'], True], [98, 1350170190, 'visit', 452, ['Sport', 'Cripto', 'News'], True], [66, 989036472, 'scroll', 323, ['Games', 'Music', 'Games'], False], [10, 1580478612, 'move', 6, ['Sport', 'Economic', 'Work'], False], [24, 1358946204, 'scroll', 231, ['Cripto'], True], [66, 1393939591, 'click', 397, ['Games', 'Work'], False], [34, 1088642975, 'scroll', 525, ['Sport', 'Work', 'Music'], False], [34, 1240650062, 'scroll', 440, ['Games', 'Economic'], False], [17, 1201549614, 'visit', 107, ['News', 'Music'], False], [48, 1210791013, 'scroll', 418, ['Economic', 'Economic'], False], [12, 1625328029, 'visit', 338, ['Cripto'], True], [99, 1375427600, 'move', 452, ['Sport', 'Cripto', 'News'], True], [3, 1411884617, 'click', 510, ['Work', 'Music'], True], [98, 1603081414, 'visit', 511, ['Cripto', 'Cripto'], True], [36, 1156897698, 'move', 140, ['Cripto', 'Work'], True], [64, 1115569818, 'scroll', 417, ['Cripto', 'Sport', 'Cripto'], False], [59, 1412611789, 'click', 6, ['Sport', 'Economic', 'Work'], True], [53, 1291281649, 'scroll', 544, ['Money'], False], [68, 1548516844, 'click', 411, ['News', 'News', 'Work'], True], [60, 1436208906, 'visit', 425, ['Economic', 'Economic', 'Work'], True], [41, 1358012784, 'click', 193, ['Money', 'Work', 'Sport'], False], [78, 1586222033, 'visit', 210, ['News', 'Work', 'Money'], True], [42, 1619255820, 'move', 426, ['Sport'], False], [98, 1010703905, 'click', 30, ['Music', 'Cripto', 'Cripto'], True], [66, 1175991071, 'scroll', 452, ['Sport', 'Sport'], False], [14, 987865493, 'scroll', 486, ['Sport'], True], [32, 1502101587, 'scroll', 371, ['Money', 'Sport', 'Cripto'], False], [68, 1230281946, 'scroll', 80, ['Cripto', 'Games'], True], [98, 991387433, 'click', 257, ['Economic', 'News'], True], [51, 1264072732, 'click', 424, ['Music'], True], [22, 1240369534, 'click', 563, ['Work', 'Sport', 'Cripto'], True], [34, 1393463707, 'click', 261, ['Games'], False], [87, 1322814087, 'click', 373, ['Money', 'Cripto', 'Games'], True], [72, 1557371105, 'click', 576, ['Work'], False], [24, 1257571658, 'scroll', 271, ['Sport', 'Work', 'Cripto'], True], [66, 1182055369, 'visit', 80, ['Work', 'Money'], False], [12, 1639316103, 'move', 140, ['Money'], True]]\n"
          ]
        }
      ]
    },
    {
      "cell_type": "markdown",
      "source": [
        "# Объявление DataFrame\n"
      ],
      "metadata": {
        "id": "iBjAzgnJZV4x"
      }
    },
    {
      "cell_type": "code",
      "source": [
        "df = spark.createDataFrame(data,schema=schema)\n",
        "df = df.select(*[i for i in df.columns if i != 'timestamp'],\n",
        "          F.from_unixtime('timestamp').alias('date_time'))\n",
        "df.show()"
      ],
      "metadata": {
        "colab": {
          "base_uri": "https://localhost:8080/"
        },
        "id": "OhCwty0hoALq",
        "outputId": "c64f4acc-e0e6-42cf-d7ff-44e73e64b215"
      },
      "execution_count": 262,
      "outputs": [
        {
          "output_type": "stream",
          "name": "stdout",
          "text": [
            "+-------+------+-------+--------------------+-----+-------------------+\n",
            "|user_id|  type|page_id|                 tag| sign|          date_time|\n",
            "+-------+------+-------+--------------------+-----+-------------------+\n",
            "|     33|  move|    191|      [Work, Cripto]|false|2019-07-27 12:33:42|\n",
            "|     38| visit|     45|[Music, News, Sport]| true|2002-03-01 17:31:02|\n",
            "|     64| visit|    297|              [Work]|false|2018-03-18 01:38:33|\n",
            "|     66|scroll|    283|             [Games]|false|2018-11-25 04:05:15|\n",
            "|     95|scroll|    350|             [Sport]| true|2019-03-12 04:00:00|\n",
            "|      2|scroll|     84|   [Sport, Economic]| true|2000-09-16 17:02:00|\n",
            "|     66| click|    440|      [Money, Money]|false|2004-08-20 09:28:38|\n",
            "|     43|  move|    451|[Music, Work, Games]| true|2011-08-28 11:39:04|\n",
            "|     42| click|    532|      [Work, Cripto]|false|2019-06-17 18:41:25|\n",
            "|     39|scroll|    561|       [News, Sport]|false|2022-07-15 00:24:44|\n",
            "|     36|  move|    514|              [News]| true|2017-04-14 16:36:07|\n",
            "|     19|scroll|    417|[Cripto, Sport, C...| true|2001-05-20 20:58:07|\n",
            "|     10|scroll|    365|[Games, Economic,...|false|2007-06-18 05:43:31|\n",
            "|     53| click|    302|[Economic, Economic]|false|2011-12-28 05:50:53|\n",
            "|     49| click|     38|              [News]|false|2009-09-14 16:03:21|\n",
            "|     49|scroll|    356|          [Economic]|false|2019-04-23 11:16:51|\n",
            "|     19|  move|    189|[News, Money, Games]| true|2015-12-07 22:18:48|\n",
            "|     55|  move|    114| [News, Games, Work]|false|2019-10-10 10:39:12|\n",
            "|     72|  move|     66|[Work, Games, Music]|false|2008-05-31 12:49:57|\n",
            "|     45| visit|    307|      [Music, Music]|false|2012-02-21 06:27:09|\n",
            "+-------+------+-------+--------------------+-----+-------------------+\n",
            "only showing top 20 rows\n",
            "\n"
          ]
        }
      ]
    },
    {
      "cell_type": "markdown",
      "source": [
        "# Топ 5 самых активных пользователей сайта"
      ],
      "metadata": {
        "id": "tpdgCOZ8Zdd8"
      }
    },
    {
      "cell_type": "code",
      "source": [
        "df.groupBy('user_id').agg({'type':'count'}).orderBy('count(type)', ascending = False).show(5)"
      ],
      "metadata": {
        "id": "Jk7GLzLL9O_m",
        "colab": {
          "base_uri": "https://localhost:8080/"
        },
        "outputId": "31f872ed-3b77-4ce5-f42a-da6ab55c0329"
      },
      "execution_count": 263,
      "outputs": [
        {
          "output_type": "stream",
          "name": "stdout",
          "text": [
            "+-------+-----------+\n",
            "|user_id|count(type)|\n",
            "+-------+-----------+\n",
            "|     66|          9|\n",
            "|     53|          6|\n",
            "|     19|          6|\n",
            "|     47|          6|\n",
            "|     87|          6|\n",
            "+-------+-----------+\n",
            "only showing top 5 rows\n",
            "\n"
          ]
        }
      ]
    },
    {
      "cell_type": "markdown",
      "source": [
        "# Процент зарегистрированных пользователей"
      ],
      "metadata": {
        "id": "r1dBtrn2bUkb"
      }
    },
    {
      "cell_type": "code",
      "source": [
        "registed_users = df.select('*').where(df['sign']=='true').groupBy('user_id', 'sign').count().distinct().count()\n",
        "all_users = df.groupBy('user_id').count().distinct().count()\n",
        "print(f'Quantity of registered users = {registed_users}')\n",
        "print(f'Quantity of all users = {all_users}')\n",
        "percent_registred_users = registed_users / all_users * 100\n",
        "print(f'Percent registred users equals {int(percent_registred_users)}%')"
      ],
      "metadata": {
        "colab": {
          "base_uri": "https://localhost:8080/"
        },
        "id": "561f3O75SAvP",
        "outputId": "de6ace57-074a-42b6-979a-84766230db86"
      },
      "execution_count": 264,
      "outputs": [
        {
          "output_type": "stream",
          "name": "stdout",
          "text": [
            "Quantity of registered users = 54\n",
            "Quantity of all users = 93\n",
            "Percent registred users equals 58%\n"
          ]
        }
      ]
    },
    {
      "cell_type": "markdown",
      "source": [
        "# Топ 5 страниц по кликам"
      ],
      "metadata": {
        "id": "peQWrhM4dQe8"
      }
    },
    {
      "cell_type": "code",
      "source": [
        "df.select('*').where(df['type']=='click').groupBy('page_id').count().orderBy('count', ascending = False).show(5)"
      ],
      "metadata": {
        "colab": {
          "base_uri": "https://localhost:8080/"
        },
        "id": "ihkz0x-uTxoh",
        "outputId": "91104440-b381-46b5-ca07-50585316b07a"
      },
      "execution_count": 265,
      "outputs": [
        {
          "output_type": "stream",
          "name": "stdout",
          "text": [
            "+-------+-----+\n",
            "|page_id|count|\n",
            "+-------+-----+\n",
            "|    530|    2|\n",
            "|    351|    2|\n",
            "|    538|    2|\n",
            "|    510|    2|\n",
            "|    597|    1|\n",
            "+-------+-----+\n",
            "only showing top 5 rows\n",
            "\n"
          ]
        }
      ]
    },
    {
      "cell_type": "markdown",
      "source": [
        "# Добавляем столбец с временными диапозонами 0-4, 4-8, 8-12 и т.д."
      ],
      "metadata": {
        "id": "8RIV16V5fknj"
      }
    },
    {
      "cell_type": "code",
      "source": [
        "df_hours = df.select('*', F.floor(F.hour('date_time')/4).alias('time_range'))\n",
        "df_hours.show()"
      ],
      "metadata": {
        "colab": {
          "base_uri": "https://localhost:8080/"
        },
        "id": "e31lizZUfyS_",
        "outputId": "9c99ae80-6ab0-49bd-b86f-80145a5ecf64"
      },
      "execution_count": 266,
      "outputs": [
        {
          "output_type": "stream",
          "name": "stdout",
          "text": [
            "+-------+------+-------+--------------------+-----+-------------------+----------+\n",
            "|user_id|  type|page_id|                 tag| sign|          date_time|time_range|\n",
            "+-------+------+-------+--------------------+-----+-------------------+----------+\n",
            "|     33|  move|    191|      [Work, Cripto]|false|2019-07-27 12:33:42|         3|\n",
            "|     38| visit|     45|[Music, News, Sport]| true|2002-03-01 17:31:02|         4|\n",
            "|     64| visit|    297|              [Work]|false|2018-03-18 01:38:33|         0|\n",
            "|     66|scroll|    283|             [Games]|false|2018-11-25 04:05:15|         1|\n",
            "|     95|scroll|    350|             [Sport]| true|2019-03-12 04:00:00|         1|\n",
            "|      2|scroll|     84|   [Sport, Economic]| true|2000-09-16 17:02:00|         4|\n",
            "|     66| click|    440|      [Money, Money]|false|2004-08-20 09:28:38|         2|\n",
            "|     43|  move|    451|[Music, Work, Games]| true|2011-08-28 11:39:04|         2|\n",
            "|     42| click|    532|      [Work, Cripto]|false|2019-06-17 18:41:25|         4|\n",
            "|     39|scroll|    561|       [News, Sport]|false|2022-07-15 00:24:44|         0|\n",
            "|     36|  move|    514|              [News]| true|2017-04-14 16:36:07|         4|\n",
            "|     19|scroll|    417|[Cripto, Sport, C...| true|2001-05-20 20:58:07|         5|\n",
            "|     10|scroll|    365|[Games, Economic,...|false|2007-06-18 05:43:31|         1|\n",
            "|     53| click|    302|[Economic, Economic]|false|2011-12-28 05:50:53|         1|\n",
            "|     49| click|     38|              [News]|false|2009-09-14 16:03:21|         4|\n",
            "|     49|scroll|    356|          [Economic]|false|2019-04-23 11:16:51|         2|\n",
            "|     19|  move|    189|[News, Money, Games]| true|2015-12-07 22:18:48|         5|\n",
            "|     55|  move|    114| [News, Games, Work]|false|2019-10-10 10:39:12|         2|\n",
            "|     72|  move|     66|[Work, Games, Music]|false|2008-05-31 12:49:57|         3|\n",
            "|     45| visit|    307|      [Music, Music]|false|2012-02-21 06:27:09|         1|\n",
            "+-------+------+-------+--------------------+-----+-------------------+----------+\n",
            "only showing top 20 rows\n",
            "\n"
          ]
        }
      ]
    },
    {
      "cell_type": "markdown",
      "source": [
        "#Выведите временной промежуток на основе предыдущего задания, в течение которого было больше всего активностей на сайте."
      ],
      "metadata": {
        "id": "U2dat32nvdgY"
      }
    },
    {
      "cell_type": "code",
      "source": [
        "@udf(T.StringType())\n",
        "def conversion(value):\n",
        "  for i, v in dict_range.items():\n",
        "    if int(value) == i:\n",
        "      return v\n",
        "\n",
        "df_time_range = df_hours.groupBy('time_range').count().orderBy('count', ascending = False)\n",
        "dict_range = {0 : '0-4',\n",
        "              1 : '4-8',\n",
        "              2 : '8-12',\n",
        "              3 : '12-16',\n",
        "              4 : '16-20',\n",
        "              5 : '20-0'}\n",
        "df_time_range.select( conversion('time_range').alias('time_range'),'count').show(1)\n"
      ],
      "metadata": {
        "colab": {
          "base_uri": "https://localhost:8080/"
        },
        "id": "LEfM7WAWnlzq",
        "outputId": "71ee6cee-6923-4724-997d-9719a20fd6c3"
      },
      "execution_count": 267,
      "outputs": [
        {
          "output_type": "stream",
          "name": "stdout",
          "text": [
            "+----------+-----+\n",
            "|time_range|count|\n",
            "+----------+-----+\n",
            "|       4-8|   59|\n",
            "+----------+-----+\n",
            "only showing top 1 row\n",
            "\n"
          ]
        }
      ]
    },
    {
      "cell_type": "markdown",
      "source": [
        "#Создайте второй фрейм данных, который будет содержать информацию о ЛК посетителя сайта со следующим списком атрибутов:\n",
        "1.       Id – уникальный идентификатор личного кабинета\n",
        "\n",
        "2.       User_id – уникальный идентификатор посетителя\n",
        "\n",
        "3.       ФИО посетителя\n",
        "\n",
        "4.    Дату рождения посетителя \n",
        "\n",
        "5.       Дата создания ЛК"
      ],
      "metadata": {
        "id": "AFdqvqMKvr-N"
      }
    },
    {
      "cell_type": "code",
      "source": [
        "#Генератор данных пользователя\n",
        "def generate_user_list(count):\n",
        "  users = []\n",
        "  sex = ['male', 'female']\n",
        "  #Диапозон дат рождения и создания аккаунта в формате unix timestamp\n",
        "  range_birthday = [315532800, 1072915200]\n",
        "  range_create_account = [1262304000, 1669161600]\n",
        "  #счётчик ID аккаунта\n",
        "  accounts = 0\n",
        "  last_name_female = []\n",
        "  first_name_female = []\n",
        "  patronymic_female = []\n",
        "\n",
        "  last_name_male = []\n",
        "  first_name_male = []\n",
        "  patronymic_male = []\n",
        "\n",
        "  #Список ФИО сгенерированных на https://randomus.ru/\n",
        "\n",
        "  fio_female = \"Попова Мария Даниэльевна,Панова Александра Марковна,\\\n",
        "Сорокина Есения Матвеевна,Токарева Анна Филипповна,\\\n",
        "Григорьева Алёна Ивановна,Сидорова София Александровна,\\\n",
        "Демина Ксения Данииловна,Николаева Татьяна Артёмовна,\\\n",
        "Андреева Арина Александровна,Овчинникова Мария Тимофеевна,\\\n",
        "Захарова Ева Павловна,Кондратьева Анастасия Егоровна,\\\n",
        "Леонова Эмилия Олеговна,Данилова София Львовна,\\\n",
        "Ушакова Диана Артёмовна,Михеева Валерия Кирилловна,\\\n",
        "Смирнова Елена Кирилловна,Казакова Ева Кирилловна,\\\n",
        "Смирнова Екатерина Сергеевна,Сергеева Злата Леонидовна\"\n",
        "  fio_male = \"Абрамов Матвей Маркович,Трофимов Александр Артёмович,\\\n",
        "Соловьев Роман Львович,Тарасов Максим Викторович,\\\n",
        "Голубев Захар Максимович,Кудрявцев Альберт Васильевич,\\\n",
        "Степанов Вячеслав Викторович,Некрасов Мирон Артемьевич,\\\n",
        "Белоусов Леонид Львович,Иванов Артём Леонович,\\\n",
        "Фомин Данил Маркович,Корчагин Иван Даниилович,Давыдов Ярослав Павлович,\\\n",
        "Иванов Фёдор Макарович,Аникин Алексей Игоревич,Сухарев Тимофей Давидович,\\\n",
        "Лопатин Арсен Львович,Панфилов Матвей Николаевич,\\\n",
        "Алексеев Александр Алексеевич,Бирюков Андрей Анатольевич\"\n",
        "  \n",
        "  #Разделение ФИО на Фамилию, Имя и Отчество\n",
        "  temp_arr = fio_male.split(',')\n",
        "  for i in temp_arr:\n",
        "    first_name_male.append(i.split(' ')[0])\n",
        "    last_name_male.append(i.split(' ')[1])\n",
        "    patronymic_male.append(i.split(' ')[2])\n",
        "    \n",
        "  temp_arr = fio_female.split(',')\n",
        "  for i in temp_arr:\n",
        "    first_name_female.append(i.split(' ')[0])\n",
        "    last_name_female.append(i.split(' ')[1])\n",
        "    patronymic_female.append(i.split(' ')[2])\n",
        "\n",
        "  #Генерация данных пользователя\n",
        "  for i in range(1, int(count/3)):\n",
        "    \n",
        "    users.append([])\n",
        "    tmp_sex = random.choice(sex)\n",
        "    users[i-1].append(i)\n",
        "\n",
        "    # Находим в сгенерированных ранее данных id пользователя,\n",
        "    # если у него есть личный кабинет увеличиваем номер аккаунта на 1\n",
        "    # и добавляем его к нашему пользователю\n",
        "    for j, v in enumerate(data):\n",
        "      if v[0] == i:\n",
        "        if v[5] == True:\n",
        "          accounts += 1\n",
        "          tmp_account = accounts\n",
        "        elif v[5] == False:\n",
        "          tmp_account = None\n",
        "        break\n",
        "    users[i-1].append(tmp_account)\n",
        "    \n",
        "    \n",
        "    if (tmp_sex == 'female'):\n",
        "      fio = f'{random.choice(first_name_female)} {random.choice(last_name_female)} {random.choice(patronymic_female)}'\n",
        "    elif (tmp_sex == 'male'):\n",
        "      fio = f'{random.choice(first_name_male)} {random.choice(last_name_male)} {random.choice(patronymic_male)}'\n",
        "\n",
        "    users[i-1].append(fio)\n",
        "    birthday = random.randint(range_birthday[0], range_birthday[1])\n",
        "    birthday = datetime.datetime.fromtimestamp(birthday).strftime(\"%Y-%m-%d\")\n",
        "    users[i-1].append(birthday)\n",
        "    date_create_account = random.randint(range_create_account[0], range_create_account[1])\n",
        "    date_create_account = datetime.datetime.fromtimestamp(date_create_account ).strftime(\"%Y-%m-%d\")\n",
        "    users[i-1].append(date_create_account)\n",
        "  return users\n",
        "\n",
        "schema_users = T.StructType([\n",
        "                       T.StructField('user_id', T.IntegerType(), True),\n",
        "                       T.StructField('account_id', T.IntegerType(), True),\n",
        "                       T.StructField('full_name', T.StringType(), True),\n",
        "                       T.StructField('birthday', T.StringType(), True),\n",
        "                       T.StructField('date_create_account', T.StringType(), True),\n",
        "                       ])\n",
        "\n",
        "\n",
        "\n",
        "data_users = generate_user_list(count)\n",
        "print(data_users)\n",
        "df_users = spark.createDataFrame(data_users, schema = schema_users)\n",
        "df_users.show()"
      ],
      "metadata": {
        "colab": {
          "base_uri": "https://localhost:8080/"
        },
        "id": "Y808Q16ptiOs",
        "outputId": "9fe3e0e2-325e-40d1-92bb-665f8f15fde1"
      },
      "execution_count": 268,
      "outputs": [
        {
          "output_type": "stream",
          "name": "stdout",
          "text": [
            "[[1, None, 'Смирнова Валерия Кирилловна', '1980-03-30', '2017-08-06'], [2, 1, 'Бирюков Леонид Леонович', '1990-06-22', '2012-03-31'], [3, 2, 'Андреева Анастасия Леонидовна', '2002-08-21', '2021-10-13'], [4, None, 'Демина Александра Павловна', '1983-04-27', '2011-05-31'], [5, None, 'Белоусов Вячеслав Артемьевич', '1991-06-18', '2016-05-03'], [6, None, 'Соловьев Вячеслав Викторович', '1985-10-14', '2021-03-22'], [7, 3, 'Ушакова Александра Львовна', '2001-07-25', '2014-05-02'], [8, None, 'Давыдов Данил Даниилович', '1988-01-16', '2021-08-05'], [9, 4, 'Данилова Александра Александровна', '2003-03-14', '2018-12-25'], [10, None, 'Давыдов Мирон Николаевич', '1982-01-27', '2015-09-23'], [11, 5, 'Корчагин Максим Артемьевич', '1989-10-11', '2015-02-09'], [12, 6, 'Сорокина Валерия Александровна', '1984-07-20', '2020-06-29'], [13, None, 'Степанов Артём Львович', '1993-08-19', '2017-12-31'], [14, 7, 'Фомин Фёдор Леонович', '2002-10-07', '2021-09-05'], [15, None, 'Белоусов Арсен Алексеевич', '1996-08-03', '2021-06-14'], [16, 8, 'Некрасов Леонид Львович', '1987-11-26', '2012-08-15'], [17, None, 'Кудрявцев Максим Николаевич', '1992-05-02', '2014-12-15'], [18, 9, 'Сергеева Елена Леонидовна', '1992-09-26', '2013-02-19'], [19, 10, 'Корчагин Мирон Львович', '1999-03-10', '2020-07-18'], [20, None, 'Корчагин Иван Львович', '1998-04-04', '2021-09-08'], [21, 11, 'Бирюков Данил Васильевич', '1986-03-03', '2018-04-10'], [22, 12, 'Иванов Мирон Викторович', '1991-04-04', '2010-03-09'], [23, 13, 'Сорокина Анна Артёмовна', '1987-02-21', '2015-09-11'], [24, 14, 'Михеева Алёна Леонидовна', '1994-08-15', '2020-04-21'], [25, 15, 'Некрасов Захар Маркович', '1983-05-09', '2022-06-28'], [26, None, 'Алексеев Данил Львович', '1993-01-30', '2011-11-15'], [27, 16, 'Иванов Захар Николаевич', '2001-06-26', '2020-04-14'], [28, None, 'Кондратьева Александра Павловна', '1991-11-21', '2021-06-01'], [29, 17, 'Степанов Роман Николаевич', '1995-03-18', '2019-09-13'], [30, 18, 'Андреева София Александровна', '2002-08-27', '2011-02-15'], [31, 19, 'Казакова Ева Матвеевна', '1985-12-22', '2017-06-12'], [32, None, 'Бирюков Вячеслав Николаевич', '2001-12-27', '2021-06-04'], [33, None, 'Смирнова Мария Егоровна', '1996-01-25', '2014-11-24'], [34, None, 'Демина Злата Павловна', '2003-07-24', '2014-12-29'], [35, 20, 'Панова Ева Даниэльевна', '1993-05-26', '2011-06-28'], [36, 21, 'Смирнова Ева Львовна', '1999-03-10', '2022-07-25'], [37, None, 'Михеева Ксения Даниэльевна', '1990-02-25', '2021-06-11'], [38, 22, 'Токарева София Артёмовна', '1993-07-16', '2019-09-14'], [39, None, 'Кондратьева Ксения Марковна', '1984-03-08', '2017-08-19'], [40, 23, 'Фомин Фёдор Львович', '1982-02-15', '2019-03-12'], [41, None, 'Некрасов Арсен Львович', '1994-10-14', '2019-02-12'], [42, None, 'Голубев Иван Артемьевич', '1985-08-24', '2020-01-14'], [43, 24, 'Голубев Матвей Алексеевич', '2000-09-08', '2018-12-08'], [44, None, 'Ушакова Арина Артёмовна', '1996-12-23', '2012-09-18'], [45, None, 'Михеева Татьяна Филипповна', '1992-10-17', '2011-06-20'], [46, 25, 'Токарева Екатерина Львовна', '1988-09-26', '2016-08-19'], [47, None, 'Попова Мария Львовна', '1983-03-29', '2011-01-21'], [48, None, 'Андреева София Александровна', '1992-02-18', '2015-03-19'], [49, None, 'Лопатин Леонид Игоревич', '1996-05-10', '2013-11-03'], [50, None, 'Захарова Александра Сергеевна', '1994-10-20', '2020-12-19'], [51, 26, 'Некрасов Фёдор Павлович', '1984-05-10', '2016-09-17'], [52, 27, 'Николаева Анна Кирилловна', '1991-07-24', '2016-05-19'], [53, None, 'Лопатин Андрей Артемьевич', '1983-04-15', '2014-06-07'], [54, 28, 'Демина Ева Егоровна', '1994-07-18', '2019-01-08'], [55, None, 'Панфилов Тимофей Маркович', '1993-11-10', '2012-08-08'], [56, 29, 'Кудрявцев Максим Давидович', '1981-06-01', '2020-03-21'], [57, None, 'Алексеев Арсен Маркович', '1980-11-01', '2013-03-22'], [58, 30, 'Некрасов Фёдор Николаевич', '1981-05-08', '2014-10-08'], [59, 31, 'Николаева Анастасия Леонидовна', '1999-10-26', '2021-07-11'], [60, 32, 'Сергеева Мария Филипповна', '2003-04-03', '2018-12-09'], [61, 33, 'Белоусов Матвей Маркович', '1997-05-13', '2013-11-29'], [62, None, 'Трофимов Ярослав Павлович', '2000-05-24', '2011-03-09'], [63, None, 'Михеева Анна Кирилловна', '1983-05-02', '2013-05-02'], [64, None, 'Бирюков Мирон Маркович', '1981-09-17', '2016-11-05'], [65, None, 'Ушакова Екатерина Матвеевна', '2003-05-27', '2018-02-13'], [66, None, 'Корчагин Мирон Макарович', '1983-07-17', '2022-11-19'], [67, 34, 'Давыдов Максим Макарович', '1998-08-28', '2012-09-09'], [68, 35, 'Голубев Альберт Давидович', '1998-07-27', '2014-05-19'], [69, 36, 'Лопатин Захар Львович', '1999-05-04', '2022-06-02'], [70, 37, 'Иванов Матвей Васильевич', '1999-02-02', '2020-12-10'], [71, 38, 'Соловьев Тимофей Максимович', '1986-10-30', '2015-01-05'], [72, None, 'Иванов Александр Маркович', '1985-03-31', '2014-01-22'], [73, None, 'Белоусов Роман Николаевич', '1995-10-18', '2010-03-27'], [74, 39, 'Кудрявцев Максим Викторович', '2001-07-05', '2012-09-13'], [75, 39, 'Трофимов Матвей Даниилович', '1982-06-05', '2015-03-28'], [76, 40, 'Тарасов Александр Артемьевич', '1996-05-08', '2011-04-20'], [77, 41, 'Аникин Артём Игоревич', '1988-07-02', '2010-11-10'], [78, 42, 'Сухарев Матвей Алексеевич', '2002-07-21', '2017-06-27'], [79, 43, 'Михеева Ксения Кирилловна', '1995-01-02', '2015-06-26'], [80, 44, 'Тарасов Артём Давидович', '1983-11-25', '2016-07-24'], [81, None, 'Андреева Арина Александровна', '1988-11-28', '2010-12-02'], [82, None, 'Андреева София Даниэльевна', '1988-02-05', '2016-04-18'], [83, None, 'Казакова Анна Павловна', '1990-06-10', '2019-05-08'], [84, 45, 'Аникин Александр Маркович', '1988-11-01', '2014-09-06'], [85, 46, 'Давыдов Матвей Николаевич', '1982-04-21', '2022-02-01'], [86, 47, 'Смирнова София Артёмовна', '1981-12-23', '2017-06-29'], [87, 48, 'Григорьева Анна Ивановна', '2001-03-24', '2021-08-21'], [88, None, 'Смирнова Екатерина Львовна', '1994-01-20', '2021-11-30'], [89, 49, 'Иванов Артём Викторович', '1992-11-12', '2018-05-12'], [90, None, 'Лопатин Максим Викторович', '1982-06-01', '2014-02-14'], [91, None, 'Николаева Алёна Тимофеевна', '1989-08-02', '2020-04-10'], [92, 50, 'Абрамов Андрей Васильевич', '2000-09-22', '2022-05-19'], [93, None, 'Кондратьева Валерия Павловна', '2001-05-03', '2017-08-24'], [94, 51, 'Ушакова Анастасия Кирилловна', '1982-10-04', '2010-11-12'], [95, 52, 'Голубев Захар Анатольевич', '1982-04-02', '2018-11-15'], [96, None, 'Сергеева Мария Данииловна', '2003-02-06', '2019-10-24'], [97, None, 'Смирнова Анна Филипповна', '1989-08-07', '2017-12-23'], [98, 53, 'Некрасов Альберт Львович', '1988-03-12', '2013-02-22'], [99, 54, 'Николаева Алёна Кирилловна', '1995-05-02', '2010-10-22']]\n",
            "+-------+----------+--------------------+----------+-------------------+\n",
            "|user_id|account_id|           full_name|  birthday|date_create_account|\n",
            "+-------+----------+--------------------+----------+-------------------+\n",
            "|      1|      null|Смирнова Валерия ...|1980-03-30|         2017-08-06|\n",
            "|      2|         1|Бирюков Леонид Ле...|1990-06-22|         2012-03-31|\n",
            "|      3|         2|Андреева Анастаси...|2002-08-21|         2021-10-13|\n",
            "|      4|      null|Демина Александра...|1983-04-27|         2011-05-31|\n",
            "|      5|      null|Белоусов Вячеслав...|1991-06-18|         2016-05-03|\n",
            "|      6|      null|Соловьев Вячеслав...|1985-10-14|         2021-03-22|\n",
            "|      7|         3|Ушакова Александр...|2001-07-25|         2014-05-02|\n",
            "|      8|      null|Давыдов Данил Дан...|1988-01-16|         2021-08-05|\n",
            "|      9|         4|Данилова Александ...|2003-03-14|         2018-12-25|\n",
            "|     10|      null|Давыдов Мирон Ник...|1982-01-27|         2015-09-23|\n",
            "|     11|         5|Корчагин Максим А...|1989-10-11|         2015-02-09|\n",
            "|     12|         6|Сорокина Валерия ...|1984-07-20|         2020-06-29|\n",
            "|     13|      null|Степанов Артём Ль...|1993-08-19|         2017-12-31|\n",
            "|     14|         7|Фомин Фёдор Леонович|2002-10-07|         2021-09-05|\n",
            "|     15|      null|Белоусов Арсен Ал...|1996-08-03|         2021-06-14|\n",
            "|     16|         8|Некрасов Леонид Л...|1987-11-26|         2012-08-15|\n",
            "|     17|      null|Кудрявцев Максим ...|1992-05-02|         2014-12-15|\n",
            "|     18|         9|Сергеева Елена Ле...|1992-09-26|         2013-02-19|\n",
            "|     19|        10|Корчагин Мирон Ль...|1999-03-10|         2020-07-18|\n",
            "|     20|      null|Корчагин Иван Льв...|1998-04-04|         2021-09-08|\n",
            "+-------+----------+--------------------+----------+-------------------+\n",
            "only showing top 20 rows\n",
            "\n"
          ]
        }
      ]
    },
    {
      "cell_type": "markdown",
      "source": [
        "#Вывести фамилии посетителей, которые читали хотя бы одну новость про спорт."
      ],
      "metadata": {
        "id": "KU7MC0bkeRkB"
      }
    },
    {
      "cell_type": "code",
      "source": [
        "df.join(df_users, df.user_id == df_users.user_id).where(F.array_contains('tag', 'Sport')).groupBy(df.user_id, 'full_name').count().orderBy(df.user_id).show(100)"
      ],
      "metadata": {
        "colab": {
          "base_uri": "https://localhost:8080/"
        },
        "id": "8JNUDsu6fsVX",
        "outputId": "dfcc9a07-a3b5-456a-b77e-830d79d3301a"
      },
      "execution_count": 287,
      "outputs": [
        {
          "output_type": "stream",
          "name": "stdout",
          "text": [
            "+-------+--------------------+-----+\n",
            "|user_id|           full_name|count|\n",
            "+-------+--------------------+-----+\n",
            "|      2|Бирюков Леонид Ле...|    2|\n",
            "|      3|Андреева Анастаси...|    1|\n",
            "|      7|Ушакова Александр...|    3|\n",
            "|      8|Давыдов Данил Дан...|    1|\n",
            "|     10|Давыдов Мирон Ник...|    1|\n",
            "|     11|Корчагин Максим А...|    1|\n",
            "|     13|Степанов Артём Ль...|    1|\n",
            "|     14|Фомин Фёдор Леонович|    3|\n",
            "|     16|Некрасов Леонид Л...|    1|\n",
            "|     18|Сергеева Елена Ле...|    1|\n",
            "|     19|Корчагин Мирон Ль...|    3|\n",
            "|     20|Корчагин Иван Льв...|    2|\n",
            "|     21|Бирюков Данил Вас...|    1|\n",
            "|     22|Иванов Мирон Викт...|    1|\n",
            "|     23|Сорокина Анна Арт...|    1|\n",
            "|     24|Михеева Алёна Лео...|    2|\n",
            "|     26|Алексеев Данил Ль...|    1|\n",
            "|     28|Кондратьева Алекс...|    2|\n",
            "|     29|Степанов Роман Ни...|    1|\n",
            "|     32|Бирюков Вячеслав ...|    1|\n",
            "|     34|Демина Злата Павл...|    1|\n",
            "|     37|Михеева Ксения Да...|    2|\n",
            "|     38|Токарева София Ар...|    1|\n",
            "|     39|Кондратьева Ксени...|    1|\n",
            "|     40| Фомин Фёдор Львович|    2|\n",
            "|     41|Некрасов Арсен Ль...|    1|\n",
            "|     42|Голубев Иван Арте...|    1|\n",
            "|     44|Ушакова Арина Арт...|    1|\n",
            "|     47|Попова Мария Львовна|    1|\n",
            "|     51|Некрасов Фёдор Па...|    2|\n",
            "|     53|Лопатин Андрей Ар...|    2|\n",
            "|     58|Некрасов Фёдор Ни...|    2|\n",
            "|     59|Николаева Анастас...|    1|\n",
            "|     61|Белоусов Матвей М...|    3|\n",
            "|     62|Трофимов Ярослав ...|    1|\n",
            "|     64|Бирюков Мирон Мар...|    2|\n",
            "|     66|Корчагин Мирон Ма...|    2|\n",
            "|     70|Иванов Матвей Вас...|    2|\n",
            "|     72|Иванов Александр ...|    1|\n",
            "|     77|Аникин Артём Игор...|    1|\n",
            "|     79|Михеева Ксения Ки...|    1|\n",
            "|     80|Тарасов Артём Дав...|    1|\n",
            "|     81|Андреева Арина Ал...|    1|\n",
            "|     83|Казакова Анна Пав...|    1|\n",
            "|     87|Григорьева Анна И...|    1|\n",
            "|     89|Иванов Артём Викт...|    1|\n",
            "|     92|Абрамов Андрей Ва...|    1|\n",
            "|     95|Голубев Захар Ана...|    1|\n",
            "|     98|Некрасов Альберт ...|    1|\n",
            "|     99|Николаева Алёна К...|    2|\n",
            "+-------+--------------------+-----+\n",
            "\n"
          ]
        }
      ]
    }
  ]
}